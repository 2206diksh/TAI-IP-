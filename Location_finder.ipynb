{
  "nbformat": 4,
  "nbformat_minor": 0,
  "metadata": {
    "colab": {
      "provenance": [],
      "authorship_tag": "ABX9TyMHSodpTmpcIOcnbBnybgrk",
      "include_colab_link": true
    },
    "kernelspec": {
      "name": "python3",
      "display_name": "Python 3"
    },
    "language_info": {
      "name": "python"
    }
  },
  "cells": [
    {
      "cell_type": "markdown",
      "metadata": {
        "id": "view-in-github",
        "colab_type": "text"
      },
      "source": [
        "<a href=\"https://colab.research.google.com/github/2206diksh/TAI-IP-/blob/main/Location_finder.ipynb\" target=\"_parent\"><img src=\"https://colab.research.google.com/assets/colab-badge.svg\" alt=\"Open In Colab\"/></a>"
      ]
    },
    {
      "cell_type": "code",
      "execution_count": null,
      "metadata": {
        "colab": {
          "base_uri": "https://localhost:8080/"
        },
        "id": "zYW5nv1yuUkO",
        "outputId": "51ec7186-ee1b-46d0-8ac5-9f80a72e5d2b"
      },
      "outputs": [
        {
          "output_type": "stream",
          "name": "stdout",
          "text": [
            "Vellore, Vellore District, Tamil Nadu, India\n",
            "Latitude =  12.7948109 \n",
            "\n",
            "Longitude =  79.0006410968549\n"
          ]
        }
      ],
      "source": [
        "from geopy.geocoders import Nominatim\n",
        "\n",
        "#calling the nominatim tool\n",
        "loc= Nominatim(user_agent=\"Get Vellore\")\n",
        "\n",
        "#entering the location name\n",
        "getLoc = loc.geocode(\"Vellore\")\n",
        "\n",
        "#printing address\n",
        "print(getLoc.address)\n",
        "\n",
        "#printing lattitude and longitude\n",
        "print(\"Latitude = \",getLoc.latitude, \"\\n\")\n",
        "print(\"Longitude = \",getLoc.longitude)"
      ]
    }
  ]
}